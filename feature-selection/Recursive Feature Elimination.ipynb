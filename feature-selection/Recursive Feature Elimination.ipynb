{
 "cells": [
  {
   "cell_type": "code",
   "execution_count": 6,
   "metadata": {
    "collapsed": true
   },
   "outputs": [],
   "source": [
    "import pandas as pd\n",
    "import numpy as np\n",
    "from sklearn.feature_selection import RFE\n",
    "from sklearn.linear_model import LogisticRegression\n",
    "\n",
    "names = ['preg', 'plas', 'pres', 'skin', 'test', 'mass', 'pedi', 'age', 'class']\n",
    "diabetes_data = pd.read_csv('data/prima_indian_diabetes.csv', names=names)\n",
    "\n",
    "X = diabetes_data.values[:, 0:8]\n",
    "y = diabetes_data.values[:, 8]\n",
    "\n",
    "# Feature extraction \n",
    "lr = LogisticRegression()\n",
    "rfe = RFE(lr, 4)\n",
    "\n",
    "fitment = rfe.fit(X,y)\n"
   ]
  },
  {
   "cell_type": "code",
   "execution_count": 7,
   "metadata": {
    "collapsed": false
   },
   "outputs": [
    {
     "name": "stdout",
     "output_type": "stream",
     "text": [
      "Num of features 4\n",
      "Selected features : [ True  True False False False  True  True False]\n",
      "Feature ranking : [1 1 2 4 5 1 1 3]\n"
     ]
    }
   ],
   "source": [
    "print(\"Num of features %d\" % fitment.n_features_)\n",
    "print(\"Selected features : %s\" % fitment.support_)\n",
    "print(\"Feature ranking : %s\" % fitment.ranking_)"
   ]
  },
  {
   "cell_type": "code",
   "execution_count": null,
   "metadata": {
    "collapsed": true
   },
   "outputs": [],
   "source": []
  }
 ],
 "metadata": {
  "kernelspec": {
   "display_name": "Python [conda env:Anaconda3]",
   "language": "python",
   "name": "conda-env-Anaconda3-py"
  },
  "language_info": {
   "codemirror_mode": {
    "name": "ipython",
    "version": 3
   },
   "file_extension": ".py",
   "mimetype": "text/x-python",
   "name": "python",
   "nbconvert_exporter": "python",
   "pygments_lexer": "ipython3",
   "version": "3.5.2"
  }
 },
 "nbformat": 4,
 "nbformat_minor": 2
}
